{
 "cells": [
  {
   "cell_type": "code",
   "execution_count": 2,
   "metadata": {},
   "outputs": [
    {
     "name": "stdout",
     "output_type": "stream",
     "text": [
      "======\n",
      "Loading NuScenes tables for version v1.0-mini...\n",
      "23 category,\n",
      "8 attribute,\n",
      "4 visibility,\n",
      "911 instance,\n",
      "12 sensor,\n",
      "120 calibrated_sensor,\n",
      "31206 ego_pose,\n",
      "8 log,\n",
      "10 scene,\n",
      "404 sample,\n",
      "31206 sample_data,\n",
      "18538 sample_annotation,\n",
      "4 map,\n",
      "Done loading in 0.415 seconds.\n",
      "======\n",
      "Reverse indexing ...\n",
      "Done reverse indexing in 0.1 seconds.\n",
      "======\n",
      "404\n"
     ]
    }
   ],
   "source": [
    "from nuscenes.can_bus.can_bus_api import NuScenesCanBus\n",
    "from nuscenes.nuscenes import NuScenes\n",
    "\n",
    "nusc = NuScenes(version='v1.0-mini', dataroot='../data/nuscenes', verbose=True)\n",
    "print(len(nusc.sample))\n",
    "for sample in nusc.sample:\n",
    "    lidar_token = sample['data']['LIDAR_TOP']\n",
    "    sd_rec = nusc.get('sample_data', sample['data']['LIDAR_TOP'])\n",
    "    cs_record = nusc.get('calibrated_sensor',\n",
    "                             sd_rec['calibrated_sensor_token'])\n",
    "    pose_record = nusc.get('ego_pose', sd_rec['ego_pose_token'])\n",
    "    lidar_path, boxes, _ = nusc.get_sample_data(lidar_token)\n",
    "    break\n"
   ]
  },
  {
   "cell_type": "code",
   "execution_count": null,
   "metadata": {},
   "outputs": [],
   "source": []
  },
  {
   "cell_type": "code",
   "execution_count": null,
   "metadata": {},
   "outputs": [],
   "source": [
    "nusc.list_scenes()"
   ]
  },
  {
   "cell_type": "code",
   "execution_count": null,
   "metadata": {},
   "outputs": [],
   "source": [
    "first_scene = nusc.scene[0]\n",
    "# first_scene\n",
    "first_sample_token = first_scene['first_sample_token']\n",
    "first_sample=nusc.get('sample',first_sample_token)\n",
    "first_sample['data']"
   ]
  },
  {
   "cell_type": "code",
   "execution_count": null,
   "metadata": {},
   "outputs": [],
   "source": [
    "radar_data =nusc.get('sample_data', first_sample['data'][\"RADAR_FRONT\"])\n",
    "lidar_data = nusc.get('sample_data', first_sample['data'][\"LIDAR_TOP\"])\n",
    "camera_front = nusc.get('sample_data', first_sample['data'][\"CAM_FRONT\"])\n",
    "camera_front_right = nusc.get('sample_data', first_sample['data'][\"CAM_FRONT_RIGHT\"])\n",
    "camera_front_left = nusc.get('sample_data', first_sample['data'][\"CAM_FRONT_LEFT\"])\n"
   ]
  },
  {
   "cell_type": "code",
   "execution_count": null,
   "metadata": {},
   "outputs": [],
   "source": [
    "nusc.render_sample_data(radar_data['token'])\n",
    "nusc.render_sample_data(lidar_data['token'])\n",
    "nusc.render_sample_data(camera_front['token'])\n",
    "nusc.render_sample_data(camera_front_left['token'])\n",
    "nusc.render_sample_data(camera_front_right['token'])\n"
   ]
  },
  {
   "cell_type": "code",
   "execution_count": null,
   "metadata": {},
   "outputs": [],
   "source": [
    "#平移和旋转参数是相对于自车的\n",
    "nusc.calibrated_sensor[0]\n",
    "nusc.render_egoposes_on_map(log_location='singapore-onenorth')"
   ]
  },
  {
   "cell_type": "code",
   "execution_count": null,
   "metadata": {},
   "outputs": [],
   "source": [
    "nusc.render_egoposes_on_map(log_location='singapore-onenorth')"
   ]
  }
 ],
 "metadata": {
  "kernelspec": {
   "display_name": "Python 3.8.18 ('uniad')",
   "language": "python",
   "name": "python3"
  },
  "language_info": {
   "codemirror_mode": {
    "name": "ipython",
    "version": 3
   },
   "file_extension": ".py",
   "mimetype": "text/x-python",
   "name": "python",
   "nbconvert_exporter": "python",
   "pygments_lexer": "ipython3",
   "version": "3.8.18"
  },
  "orig_nbformat": 4,
  "vscode": {
   "interpreter": {
    "hash": "282ca5befb9b8aa64b489f8b621817cd6c44c9f4d0c66ae849f594ecf10f2e44"
   }
  }
 },
 "nbformat": 4,
 "nbformat_minor": 2
}
