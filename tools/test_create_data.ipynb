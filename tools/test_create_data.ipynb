{
 "cells": [
  {
   "cell_type": "code",
   "execution_count": 2,
   "metadata": {},
   "outputs": [
    {
     "name": "stdout",
     "output_type": "stream",
     "text": [
      "v1.0-mini ../data/nuscenes/ ../data/\n",
      "======\n",
      "Loading NuScenes tables for version v1.0-mini...\n",
      "23 category,\n",
      "8 attribute,\n",
      "4 visibility,\n",
      "911 instance,\n",
      "12 sensor,\n",
      "120 calibrated_sensor,\n",
      "31206 ego_pose,\n",
      "8 log,\n",
      "10 scene,\n",
      "404 sample,\n",
      "31206 sample_data,\n",
      "18538 sample_annotation,\n",
      "4 map,\n",
      "Done loading in 0.382 seconds.\n",
      "======\n",
      "Reverse indexing ...\n",
      "Done reverse indexing in 0.2 seconds.\n",
      "======\n",
      "total scene num: 10\n",
      "exist scene num: 10\n",
      "train scene: 8, val scene: 2\n",
      "[>>>>>>>>>>>>>>>>>>>>>>>>>>>>>] 404/404, 10.8 task/s, elapsed: 38s, ETA:     0s\n"
     ]
    }
   ],
   "source": [
    "import create_data\n",
    "from nuscenes.nuscenes import NuScenes\n",
    "from nuscenes.can_bus.can_bus_api import NuScenesCanBus\n",
    "from nuscenes.utils import splits\n",
    "from data_converter.nuscenes_converter import get_available_scenes,_fill_trainval_infos\n",
    "# create_nuscenes_infos 函数\n",
    "version = 'v1.0-mini'\n",
    "root_path = '../data/nuscenes/'\n",
    "can_bus_root_path = '../data/'\n",
    "max_sweeps = 10\n",
    "print(version, root_path,can_bus_root_path)\n",
    "nusc = NuScenes(version=version, dataroot=root_path, verbose=True)\n",
    "nusc_can_bus = NuScenesCanBus(dataroot=can_bus_root_path)\n",
    "\n",
    "train_scenes = splits.mini_train\n",
    "val_scenes = splits.mini_val\n",
    "\n",
    "available_scenes = get_available_scenes(nusc)\n",
    "\n",
    "\n",
    "available_scene_names = [s['name'] for s in available_scenes]\n",
    "train_scenes = list(\n",
    "        filter(lambda x: x in available_scene_names, train_scenes))\n",
    "val_scenes = list(filter(lambda x: x in available_scene_names, val_scenes))\n",
    "train_scenes = set([\n",
    "        available_scenes[available_scene_names.index(s)]['token']\n",
    "        for s in train_scenes\n",
    "])\n",
    "val_scenes = set([\n",
    "        available_scenes[available_scene_names.index(s)]['token']\n",
    "        for s in val_scenes\n",
    "])\n",
    "\n",
    "test = 'test' in version\n",
    "if test:\n",
    "    print('test scene: {}'.format(len(train_scenes)))\n",
    "else:\n",
    "    print('train scene: {}, val scene: {}'.format(\n",
    "        len(train_scenes), len(val_scenes)))\n",
    "\n",
    "train_nusc_infos, val_nusc_infos = _fill_trainval_infos(\n",
    "        nusc, nusc_can_bus, train_scenes, val_scenes, test, max_sweeps=max_sweeps,debug=True)\n",
    "print(train_nusc_infos)\n",
    "\n",
    "\n"
   ]
  }
 ],
 "metadata": {
  "kernelspec": {
   "display_name": "uniad",
   "language": "python",
   "name": "python3"
  },
  "language_info": {
   "codemirror_mode": {
    "name": "ipython",
    "version": 3
   },
   "file_extension": ".py",
   "mimetype": "text/x-python",
   "name": "python",
   "nbconvert_exporter": "python",
   "pygments_lexer": "ipython3",
   "version": "3.8.18"
  }
 },
 "nbformat": 4,
 "nbformat_minor": 2
}
