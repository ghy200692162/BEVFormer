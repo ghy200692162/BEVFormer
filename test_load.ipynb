{
 "cells": [
  {
   "cell_type": "code",
   "execution_count": 1,
   "metadata": {},
   "outputs": [
    {
     "name": "stdout",
     "output_type": "stream",
     "text": [
      "{'CAM_FRONT': {'data_path': '/data/dataset/nuScenes/samples/CAM_FRONT/n008-2018-08-01-15-16-36-0400__CAM_FRONT__1533151603512404.jpg', 'type': 'CAM_FRONT', 'sample_data_token': '4f5e35aa6c6a426ca945e206fb2f4921', 'sensor2ego_translation': [1.72200568478, 0.00475453292289, 1.49491291905], 'sensor2ego_rotation': [0.5077241387638071, -0.4973392230703816, 0.49837167536166627, -0.4964832014373754], 'ego2global_translation': [599.849775495386, 1647.6411294309523, 0.0], 'ego2global_rotation': [-0.9687876119182126, -0.004506968075376869, -0.00792272203393983, 0.24772460658591755], 'timestamp': 1533151603512404, 'sensor2lidar_rotation': array([[ 0.99988013, -0.01013819, -0.0117025 ],\n",
      "       [ 0.01223258,  0.05390464,  0.99847116],\n",
      "       [-0.00949188, -0.99849462,  0.05402219]]), 'sensor2lidar_translation': array([-0.00627514,  0.44372303, -0.33161267]), 'cam_intrinsic': array([[1.25281310e+03, 0.00000000e+00, 8.26588115e+02],\n",
      "       [0.00000000e+00, 1.25281310e+03, 4.69984663e+02],\n",
      "       [0.00000000e+00, 0.00000000e+00, 1.00000000e+00]])}, 'CAM_FRONT_RIGHT': {'data_path': '/data/dataset/nuScenes/samples/CAM_FRONT_RIGHT/n008-2018-08-01-15-16-36-0400__CAM_FRONT_RIGHT__1533151603520482.jpg', 'type': 'CAM_FRONT_RIGHT', 'sample_data_token': '5ed84fb1dbe24efcb00eb766a22d69d6', 'sensor2ego_translation': [1.58082565783, -0.499078711449, 1.51749368405], 'sensor2ego_rotation': [0.20335173766558642, -0.19146333228946724, 0.6785710044972951, -0.6793609166212989], 'ego2global_translation': [599.9118549287866, 1647.606633933739, 0.0], 'ego2global_rotation': [-0.9687599514054591, -0.004456697153369989, -0.007899682341935369, 0.2478343991908144], 'timestamp': 1533151603520482, 'sensor2lidar_rotation': array([[ 0.53727368, -0.00136775,  0.84340686],\n",
      "       [-0.84173947,  0.06200031,  0.53631206],\n",
      "       [-0.05302503, -0.99807519,  0.03215985]]), 'sensor2lidar_translation': array([ 0.49830135,  0.37303191, -0.30971647]), 'cam_intrinsic': array([[1.25674851e+03, 0.00000000e+00, 8.17788757e+02],\n",
      "       [0.00000000e+00, 1.25674851e+03, 4.51954178e+02],\n",
      "       [0.00000000e+00, 0.00000000e+00, 1.00000000e+00]])}, 'CAM_FRONT_LEFT': {'data_path': '/data/dataset/nuScenes/samples/CAM_FRONT_LEFT/n008-2018-08-01-15-16-36-0400__CAM_FRONT_LEFT__1533151603504799.jpg', 'type': 'CAM_FRONT_LEFT', 'sample_data_token': '27f02b3e285d4ca18015535511520b3e', 'sensor2ego_translation': [1.5752559464, 0.500519383135, 1.50696032589], 'sensor2ego_rotation': [0.6812088525125634, -0.6687507165046241, 0.2101702448905517, -0.21108161122114324], 'ego2global_translation': [599.7913353051094, 1647.6735927814666, 0.0], 'ego2global_rotation': [-0.9688136386550925, -0.004554290680191179, -0.007944423174925015, 0.24762123926008034], 'timestamp': 1533151603504799, 'sensor2lidar_rotation': array([[ 0.56725815, -0.01433343, -0.82341529],\n",
      "       [ 0.82281279,  0.05187402,  0.5659401 ],\n",
      "       [ 0.034602  , -0.99855077,  0.04121969]]), 'sensor2lidar_translation': array([-0.5023761 ,  0.22914752, -0.33165801]), 'cam_intrinsic': array([[1.25786253e+03, 0.00000000e+00, 8.27241063e+02],\n",
      "       [0.00000000e+00, 1.25786253e+03, 4.50915498e+02],\n",
      "       [0.00000000e+00, 0.00000000e+00, 1.00000000e+00]])}, 'CAM_BACK': {'data_path': '/data/dataset/nuScenes/samples/CAM_BACK/n008-2018-08-01-15-16-36-0400__CAM_BACK__1533151603537558.jpg', 'type': 'CAM_BACK', 'sample_data_token': '1908fe7dc09c474ebc6ea23b4c1c5401', 'sensor2ego_translation': [0.05524611077, 0.0107882366898, 1.56794286957], 'sensor2ego_rotation': [0.5067997344989889, -0.4977567019405021, -0.4987849934090844, 0.496594225837321], 'ego2global_translation': [600.0430992523302, 1647.5336699861132, 0.0], 'ego2global_rotation': [-0.9687030311295038, -0.0042154863536825755, -0.007752028981545582, 0.24806566308536676], 'timestamp': 1533151603537558, 'sensor2lidar_rotation': array([[-0.99992834, -0.00859485, -0.0083335 ],\n",
      "       [ 0.00799071,  0.03917429, -0.99920044],\n",
      "       [ 0.00891444, -0.99919543, -0.0391028 ]]), 'sensor2lidar_translation': array([-0.0095122 , -1.00464249, -0.3205656 ]), 'cam_intrinsic': array([[796.89106345,   0.        , 857.77743269],\n",
      "       [  0.        , 796.89106345, 476.88489884],\n",
      "       [  0.        ,   0.        ,   1.        ]])}, 'CAM_BACK_LEFT': {'data_path': '/data/dataset/nuScenes/samples/CAM_BACK_LEFT/n008-2018-08-01-15-16-36-0400__CAM_BACK_LEFT__1533151603547405.jpg', 'type': 'CAM_BACK_LEFT', 'sample_data_token': 'e4233736f4ba4fd5989684f0f1e84377', 'sensor2ego_translation': [1.04852047718, 0.483058131052, 1.56210154484], 'sensor2ego_rotation': [0.7048620297871717, -0.6907306801461466, -0.11209091960167808, 0.11617345743327073], 'ego2global_translation': [600.1185731195969, 1647.4917138239566, 0.0], 'ego2global_rotation': [-0.9686660835660069, -0.004081555849799428, -0.007697727348287311, 0.24821382806848222], 'timestamp': 1533151603547405, 'sensor2lidar_rotation': array([[-0.31910314, -0.01589122, -0.94758675],\n",
      "       [ 0.94686077,  0.03722081, -0.31948287],\n",
      "       [ 0.04034692, -0.9991807 ,  0.00316949]]), 'sensor2lidar_translation': array([-0.48218189,  0.07357368, -0.27649454]), 'cam_intrinsic': array([[1.25498606e+03, 0.00000000e+00, 8.29576933e+02],\n",
      "       [0.00000000e+00, 1.25498606e+03, 4.67168056e+02],\n",
      "       [0.00000000e+00, 0.00000000e+00, 1.00000000e+00]])}, 'CAM_BACK_RIGHT': {'data_path': '/data/dataset/nuScenes/samples/CAM_BACK_RIGHT/n008-2018-08-01-15-16-36-0400__CAM_BACK_RIGHT__1533151603528113.jpg', 'type': 'CAM_BACK_RIGHT', 'sample_data_token': '8fafdaa824b74553b1a08011d29baf20', 'sensor2ego_translation': [1.05945173053, -0.46720294852, 1.55050857555], 'sensor2ego_rotation': [0.13819187705364147, -0.13796718183628456, -0.6893329941542625, 0.697630335509333], 'ego2global_translation': [599.9705034252927, 1647.574034904777, 0.0], 'ego2global_rotation': [-0.9687345485285538, -0.0043670388304257405, -0.007816404838658813, 0.24793791011951208], 'timestamp': 1533151603528113, 'sensor2lidar_rotation': array([[-0.38201342,  0.01385406,  0.92405293],\n",
      "       [-0.92305064,  0.04318667, -0.38224655],\n",
      "       [-0.04520244, -0.99897096, -0.00370989]]), 'sensor2lidar_translation': array([ 0.46738986, -0.08280982, -0.29607485]), 'cam_intrinsic': array([[1.24996293e+03, 0.00000000e+00, 8.25376805e+02],\n",
      "       [0.00000000e+00, 1.24996293e+03, 4.62548164e+02],\n",
      "       [0.00000000e+00, 0.00000000e+00, 1.00000000e+00]])}}\n"
     ]
    }
   ],
   "source": [
    "import pickle\n",
    "data_path=\"data/nuscenes/nuscenes_infos_temporal_val.pkl\"\n",
    "with open(data_path,'rb') as f:\n",
    "    data = pickle.load(f)\n",
    "    infos = data[\"infos\"]\n",
    "    metadata = data[\"metadata\"]\n",
    "    sample = infos[0]\n",
    "    # for key,value in sample.items():\n",
    "    #     print(key,value)\n",
    "    for info in infos:\n",
    "        # print(info['prev'],info['token'],info['next'],info['frame_idx'])\n",
    "        print(info['gt_boxes'])\n",
    "        break\n",
    "        \n"
   ]
  }
 ],
 "metadata": {
  "kernelspec": {
   "display_name": "Python 3.8.18 ('uniad')",
   "language": "python",
   "name": "python3"
  },
  "language_info": {
   "codemirror_mode": {
    "name": "ipython",
    "version": 3
   },
   "file_extension": ".py",
   "mimetype": "text/x-python",
   "name": "python",
   "nbconvert_exporter": "python",
   "pygments_lexer": "ipython3",
   "version": "3.8.18"
  },
  "orig_nbformat": 4,
  "vscode": {
   "interpreter": {
    "hash": "282ca5befb9b8aa64b489f8b621817cd6c44c9f4d0c66ae849f594ecf10f2e44"
   }
  }
 },
 "nbformat": 4,
 "nbformat_minor": 2
}
