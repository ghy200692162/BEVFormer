{
 "cells": [
  {
   "cell_type": "code",
   "execution_count": 8,
   "metadata": {},
   "outputs": [
    {
     "name": "stdout",
     "output_type": "stream",
     "text": [
      "dict_keys(['lidar_path', 'token', 'prev', 'next', 'can_bus', 'frame_idx', 'sweeps', 'cams', 'scene_token', 'lidar2ego_translation', 'lidar2ego_rotation', 'ego2global_translation', 'ego2global_rotation', 'timestamp', 'gt_boxes', 'gt_names', 'gt_velocity', 'num_lidar_pts', 'num_radar_pts', 'valid_flag'])\n"
     ]
    }
   ],
   "source": [
    "import pickle\n",
    "data_path=\"data/nuscenes/nuscenes_infos_temporal_val.pkl\"\n",
    "with open(data_path,'rb') as f:\n",
    "    data = pickle.load(f)\n",
    "    infos = data[\"infos\"]\n",
    "    metadata = data[\"metadata\"]\n",
    "    sample = infos[0]\n",
    "    # for key,value in sample.items():\n",
    "    #     print(key,value)\n",
    "    for info in infos:\n",
    "        # print(info['prev'],info['token'],info['next'],info['frame_idx'])\n",
    "        print(info.keys())\n",
    "        break\n",
    "        \n"
   ]
  }
 ],
 "metadata": {
  "kernelspec": {
   "display_name": "Python 3.8.18 ('uniad')",
   "language": "python",
   "name": "python3"
  },
  "language_info": {
   "codemirror_mode": {
    "name": "ipython",
    "version": 3
   },
   "file_extension": ".py",
   "mimetype": "text/x-python",
   "name": "python",
   "nbconvert_exporter": "python",
   "pygments_lexer": "ipython3",
   "version": "3.8.18"
  },
  "orig_nbformat": 4,
  "vscode": {
   "interpreter": {
    "hash": "282ca5befb9b8aa64b489f8b621817cd6c44c9f4d0c66ae849f594ecf10f2e44"
   }
  }
 },
 "nbformat": 4,
 "nbformat_minor": 2
}
