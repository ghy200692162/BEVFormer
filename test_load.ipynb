{
 "cells": [
  {
   "cell_type": "code",
   "execution_count": 25,
   "metadata": {},
   "outputs": [
    {
     "name": "stdout",
     "output_type": "stream",
     "text": [
      "[[-0.31705823  0.01989865 -0.9481973 ]\n",
      " [ 0.94807978  0.03287344 -0.31632905]\n",
      " [ 0.02487598 -0.99926142 -0.0292883 ]]\n",
      "[-0.48328143  0.09404905 -0.24994862]\n",
      "(69, 7)\n",
      "(69,)\n",
      "(69,)\n",
      "<class 'numpy.ndarray'>\n",
      "(18,)\n"
     ]
    }
   ],
   "source": [
    "import pickle,json\n",
    "data_path=\"data/nuscenes/nuscenes_infos_temporal_train.pkl\"\n",
    "with open(data_path,'rb') as f:\n",
    "    data = pickle.load(f)\n",
    "    infos = data[\"infos\"]\n",
    "    metadata = data[\"metadata\"]\n",
    "    sample = infos[0]\n",
    "    # dump to json for debug\n",
    "    print(sample['cams'][\"CAM_BACK_LEFT\"][\"sensor2lidar_rotation\"])\n",
    "    print(sample['cams'][\"CAM_BACK_LEFT\"][\"sensor2lidar_translation\"])\n",
    "    print(sample['gt_boxes'].shape)\n",
    "    print(sample['gt_names'].shape)\n",
    "    print(sample['num_lidar_pts'].shape)\n",
    "    print(type(sample[\"can_bus\"]))\n",
    "    print(sample[\"can_bus\"].shape)\n",
    "\n",
    "\n",
    "        \n",
    "        \n"
   ]
  },
  {
   "cell_type": "code",
   "execution_count": 26,
   "metadata": {},
   "outputs": [
    {
     "name": "stdout",
     "output_type": "stream",
     "text": [
      "[[ 0.13821602  0.70623041 -0.69435938]\n",
      " [ 0.24669676 -0.70354038 -0.66646204]\n",
      " [-0.95918561 -0.07918048 -0.2714653 ]]\n",
      "[0.3993379  3.50074661 2.33663251]\n",
      "(8, 7)\n",
      "(8,)\n",
      "(8,)\n",
      "<class 'list'>\n"
     ]
    }
   ],
   "source": [
    "data_path=\"data/nuscenes/dvscenes_infos_temporal_train.pkl\"\n",
    "with open(data_path,'rb') as f:\n",
    "    data = pickle.load(f)\n",
    "    infos = data[\"infos\"]\n",
    "    metadata = data[\"metadata\"]\n",
    "    sample = infos[0]\n",
    "    # dump to json for debug\n",
    "    print(sample['cams'][\"CAM_BACK_LEFT\"][\"sensor2lidar_rotation\"])\n",
    "    print(sample['cams'][\"CAM_BACK_LEFT\"][\"sensor2lidar_translation\"])\n",
    "    print(sample['gt_boxes'].shape)\n",
    "    print(sample['gt_names'].shape)\n",
    "    print(sample['num_lidar_pts'].shape)\n",
    "    print(type(sample[\"can_bus\"]))\n",
    "    print(sample[\"can_bus\"].shape)\n",
    "\n",
    "\n"
   ]
  }
 ],
 "metadata": {
  "kernelspec": {
   "display_name": "Python 3.8.18 ('uniad')",
   "language": "python",
   "name": "python3"
  },
  "language_info": {
   "codemirror_mode": {
    "name": "ipython",
    "version": 3
   },
   "file_extension": ".py",
   "mimetype": "text/x-python",
   "name": "python",
   "nbconvert_exporter": "python",
   "pygments_lexer": "ipython3",
   "version": "3.8.18"
  },
  "orig_nbformat": 4,
  "vscode": {
   "interpreter": {
    "hash": "282ca5befb9b8aa64b489f8b621817cd6c44c9f4d0c66ae849f594ecf10f2e44"
   }
  }
 },
 "nbformat": 4,
 "nbformat_minor": 2
}
