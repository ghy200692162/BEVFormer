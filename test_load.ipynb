{
 "cells": [
  {
   "cell_type": "code",
   "execution_count": 2,
   "metadata": {},
   "outputs": [
    {
     "name": "stdout",
     "output_type": "stream",
     "text": [
      "[[-0.99992834 -0.00859485 -0.0083335 ]\n",
      " [ 0.00799071  0.03917429 -0.99920044]\n",
      " [ 0.00891444 -0.99919543 -0.0391028 ]]\n"
     ]
    }
   ],
   "source": [
    "import pickle\n",
    "data_path=\"data/nuscenes/nuscenes_infos_temporal_val.pkl\"\n",
    "with open(data_path,'rb') as f:\n",
    "    data = pickle.load(f)\n",
    "    infos = data[\"infos\"]\n",
    "    metadata = data[\"metadata\"]\n",
    "    sample = infos[0]\n",
    "    # for key,value in sample.items():\n",
    "    #     print(key,value)\n",
    "    for info in infos:\n",
    "        # print(info['prev'],info['token'],info['next'],info['frame_idx'])\n",
    "        print(info['cams']['CAM_BACK']['sensor2lidar_rotation'])\n",
    "        \n"
   ]
  }
 ],
 "metadata": {
  "kernelspec": {
   "display_name": "Python 3.8.18 ('uniad')",
   "language": "python",
   "name": "python3"
  },
  "language_info": {
   "codemirror_mode": {
    "name": "ipython",
    "version": 3
   },
   "file_extension": ".py",
   "mimetype": "text/x-python",
   "name": "python",
   "nbconvert_exporter": "python",
   "pygments_lexer": "ipython3",
   "version": "3.8.18"
  },
  "orig_nbformat": 4,
  "vscode": {
   "interpreter": {
    "hash": "282ca5befb9b8aa64b489f8b621817cd6c44c9f4d0c66ae849f594ecf10f2e44"
   }
  }
 },
 "nbformat": 4,
 "nbformat_minor": 2
}
